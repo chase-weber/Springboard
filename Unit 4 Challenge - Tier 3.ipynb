{
 "cells": [
  {
   "cell_type": "markdown",
   "metadata": {
    "colab_type": "text",
    "id": "Tia3MP1SJpgj"
   },
   "source": [
    "# Springboard Data Science Career Track Unit 4 Challenge - Tier 3 Complete\n",
    "\n",
    "## Objectives\n",
    "Hey! Great job getting through those challenging DataCamp courses. You're learning a lot in a short span of time. \n",
    "\n",
    "In this notebook, you're going to apply the skills you've been learning, bridging the gap between the controlled environment of DataCamp and the *slightly* messier work that data scientists do with actual datasets!\n",
    "\n",
    "Here’s the mystery we’re going to solve: ***which boroughs of London have seen the greatest increase in housing prices, on average, over the last two decades?***\n",
    "\n",
    "\n",
    "A borough is just a fancy word for district. You may be familiar with the five boroughs of New York… well, there are 32 boroughs within Greater London [(here's some info for the curious)](https://en.wikipedia.org/wiki/London_boroughs). Some of them are more desirable areas to live in, and the data will reflect that with a greater rise in housing prices.\n",
    "\n",
    "***This is the Tier 3 notebook, which means it's not filled in at all: we'll just give you the skeleton of a project, the brief and the data. It's up to you to play around with it and see what you can find out! Good luck! If you struggle, feel free to look at easier tiers for help; but try to dip in and out of them, as the more independent work you do, the better it is for your learning!***\n",
    "\n",
    "This challenge will make use of only what you learned in the following DataCamp courses: \n",
    "- Prework courses (Introduction to Python for Data Science, Intermediate Python for Data Science)\n",
    "- Data Types for Data Science\n",
    "- Python Data Science Toolbox (Part One) \n",
    "- pandas Foundations\n",
    "- Manipulating DataFrames with pandas\n",
    "- Merging DataFrames with pandas\n",
    "\n",
    "Of the tools, techniques and concepts in the above DataCamp courses, this challenge should require the application of the following: \n",
    "- **pandas**\n",
    "    - **data ingestion and inspection** (pandas Foundations, Module One) \n",
    "    - **exploratory data analysis** (pandas Foundations, Module Two)\n",
    "    - **tidying and cleaning** (Manipulating DataFrames with pandas, Module Three) \n",
    "    - **transforming DataFrames** (Manipulating DataFrames with pandas, Module One)\n",
    "    - **subsetting DataFrames with lists** (Manipulating DataFrames with pandas, Module One) \n",
    "    - **filtering DataFrames** (Manipulating DataFrames with pandas, Module One) \n",
    "    - **grouping data** (Manipulating DataFrames with pandas, Module Four) \n",
    "    - **melting data** (Manipulating DataFrames with pandas, Module Three) \n",
    "    - **advanced indexing** (Manipulating DataFrames with pandas, Module Four) \n",
    "- **matplotlib** (Intermediate Python for Data Science, Module One)\n",
    "- **fundamental data types** (Data Types for Data Science, Module One) \n",
    "- **dictionaries** (Intermediate Python for Data Science, Module Two)\n",
    "- **handling dates and times** (Data Types for Data Science, Module Four)\n",
    "- **function definition** (Python Data Science Toolbox - Part One, Module One)\n",
    "- **default arguments, variable length, and scope** (Python Data Science Toolbox - Part One, Module Two) \n",
    "- **lambda functions and error handling** (Python Data Science Toolbox - Part One, Module Four) "
   ]
  },
  {
   "cell_type": "markdown",
   "metadata": {
    "colab_type": "text",
    "id": "Ipgd2nV8Jpgl"
   },
   "source": [
    "## The Data Science Pipeline\n",
    "\n",
    "This is Tier Three, so we'll get you started. But after that, it's all in your hands! When you feel done with your investigations, look back over what you've accomplished, and prepare a quick presentation of your findings for the next mentor meeting. \n",
    "\n",
    "Data Science is magical. In this case study, you'll get to apply some complex machine learning algorithms. But as  [David Spiegelhalter](https://www.youtube.com/watch?v=oUs1uvsz0Ok) reminds us, there is no substitute for simply **taking a really, really good look at the data.** Sometimes, this is all we need to answer our question.\n",
    "\n",
    "Data Science projects generally adhere to the four stages of Data Science Pipeline:\n",
    "1. Sourcing and loading \n",
    "2. Cleaning, transforming, and visualizing \n",
    "3. Modeling \n",
    "4. Evaluating and concluding \n"
   ]
  },
  {
   "cell_type": "markdown",
   "metadata": {
    "colab_type": "text",
    "id": "zswDqbefJpgm"
   },
   "source": [
    "### 1. Sourcing and Loading \n",
    "\n",
    "Any Data Science project kicks off by importing  ***pandas***. The documentation of this wonderful library can be found [here](https://pandas.pydata.org/). As you've seen, pandas is conveniently connected to the [Numpy](http://www.numpy.org/) and [Matplotlib](https://matplotlib.org/) libraries. \n",
    "\n",
    "***Hint:*** This part of the data science pipeline will test those skills you acquired in the pandas Foundations course, Module One. "
   ]
  },
  {
   "cell_type": "markdown",
   "metadata": {
    "colab_type": "text",
    "id": "aEau5nEvJpgm"
   },
   "source": [
    "#### 1.1. Importing Libraries"
   ]
  },
  {
   "cell_type": "code",
   "execution_count": 1,
   "metadata": {
    "colab": {},
    "colab_type": "code",
    "id": "7Bt_Q_oPJpgn"
   },
   "outputs": [],
   "source": [
    "# Let's import the pandas, numpy libraries as pd, and np respectively. \n",
    "import pandas as pd\n",
    "import numpy as np\n",
    "# Load the pyplot collection of functions from matplotlib, as plt \n",
    "from matplotlib import pyplot as plt\n",
    "# Import datetime\n",
    "import datetime"
   ]
  },
  {
   "cell_type": "markdown",
   "metadata": {
    "colab_type": "text",
    "id": "koUrawxsJpgq"
   },
   "source": [
    "#### 1.2.  Loading the data\n",
    "Your data comes from the [London Datastore](https://data.london.gov.uk/): a free, open-source data-sharing portal for London-oriented datasets. "
   ]
  },
  {
   "cell_type": "code",
   "execution_count": 2,
   "metadata": {
    "colab": {},
    "colab_type": "code",
    "id": "AiLiD4v3Jpgr"
   },
   "outputs": [],
   "source": [
    "# First, make a variable called url_LondonHousePrices, and assign it the following link, enclosed in quotation-marks as a string:\n",
    "# https://data.london.gov.uk/download/uk-house-price-index/70ac0766-8902-4eb5-aab5-01951aaed773/UK%20House%20price%20index.xls\n",
    "\n",
    "url_LondonHousePrices = \"https://data.london.gov.uk/download/uk-house-price-index/70ac0766-8902-4eb5-aab5-01951aaed773/UK%20House%20price%20index.xls\"\n",
    "\n",
    "# The dataset we're interested in contains the Average prices of the houses, and is actually on a particular sheet of the Excel file. \n",
    "# As a result, we need to specify the sheet name in the read_excel() method.\n",
    "# Put this data into a variable called properties.  \n",
    "properties = pd.read_excel(url_LondonHousePrices, sheet_name='Average price', index_col= None)"
   ]
  },
  {
   "cell_type": "markdown",
   "metadata": {
    "colab_type": "text",
    "id": "POukEJXgJpgu"
   },
   "source": [
    "### 2. Cleaning, transforming, and visualizing\n",
    "This second stage is arguably the most important part of any Data Science project. The first thing to do is take a proper look at the data. Cleaning forms the majority of this stage, and can be done both before or after Transformation.\n",
    "\n",
    "The end goal of data cleaning is to have tidy data. When data is tidy: \n",
    "\n",
    "1. Each variable has a column.\n",
    "2. Each observation forms a row.\n",
    "\n",
    "Keep the end goal in mind as you move through this process, every step will take you closer. \n",
    "\n",
    "\n",
    "\n",
    "***Hint:*** This part of the data science pipeline should test those skills you acquired in: \n",
    "- Intermediate Python for data science, all modules.\n",
    "- pandas Foundations, all modules. \n",
    "- Manipulating DataFrames with pandas, all modules.\n",
    "- Data Types for Data Science, Module Four.\n",
    "- Python Data Science Toolbox - Part One, all modules"
   ]
  },
  {
   "cell_type": "markdown",
   "metadata": {
    "colab_type": "text",
    "id": "Te0Q548tnzZa"
   },
   "source": [
    "**2.1. Exploring your data** \n",
    "\n",
    "Think about your pandas functions for checking out a dataframe. "
   ]
  },
  {
   "cell_type": "code",
   "execution_count": 9,
   "metadata": {
    "colab": {},
    "colab_type": "code",
    "id": "Rxirxw_qoAJa"
   },
   "outputs": [
    {
     "name": "stdout",
     "output_type": "stream",
     "text": [
      "Unnamed: 0              datetime64[ns]\n",
      "City of London                  object\n",
      "Barking & Dagenham              object\n",
      "Barnet                          object\n",
      "Bexley                          object\n",
      "Brent                           object\n",
      "Bromley                         object\n",
      "Camden                          object\n",
      "Croydon                         object\n",
      "Ealing                          object\n",
      "Enfield                         object\n",
      "Greenwich                       object\n",
      "Hackney                         object\n",
      "Hammersmith & Fulham            object\n",
      "Haringey                        object\n",
      "Harrow                          object\n",
      "Havering                        object\n",
      "Hillingdon                      object\n",
      "Hounslow                        object\n",
      "Islington                       object\n",
      "Kensington & Chelsea            object\n",
      "Kingston upon Thames            object\n",
      "Lambeth                         object\n",
      "Lewisham                        object\n",
      "Merton                          object\n",
      "Newham                          object\n",
      "Redbridge                       object\n",
      "Richmond upon Thames            object\n",
      "Southwark                       object\n",
      "Sutton                          object\n",
      "Tower Hamlets                   object\n",
      "Waltham Forest                  object\n",
      "Wandsworth                      object\n",
      "Westminster                     object\n",
      "Unnamed: 34                    float64\n",
      "Inner London                    object\n",
      "Outer London                    object\n",
      "Unnamed: 37                    float64\n",
      "NORTH EAST                      object\n",
      "NORTH WEST                      object\n",
      "YORKS & THE HUMBER              object\n",
      "EAST MIDLANDS                   object\n",
      "WEST MIDLANDS                   object\n",
      "EAST OF ENGLAND                 object\n",
      "LONDON                          object\n",
      "SOUTH EAST                      object\n",
      "SOUTH WEST                      object\n",
      "Unnamed: 47                    float64\n",
      "England                         object\n",
      "dtype: object\n",
      "331\n",
      "    Unnamed: 0 City of London Barking & Dagenham     Barnet     Bexley  \\\n",
      "0          NaT      E09000001          E09000002  E09000003  E09000004   \n",
      "1   1995-01-01          91449            50460.2    93284.5    64958.1   \n",
      "2   1995-02-01        82202.8            51085.8    93190.2    64787.9   \n",
      "3   1995-03-01        79120.7              51269    92247.5    64367.5   \n",
      "4   1995-04-01        77101.2            53133.5    90762.9    64277.7   \n",
      "..         ...            ...                ...        ...        ...   \n",
      "326 2022-02-01         856301             341428     578243     384241   \n",
      "327 2022-03-01         820302             342723     582655     389417   \n",
      "328 2022-04-01         860938             339305     594131     391217   \n",
      "329 2022-05-01         802500             337715     600963     393389   \n",
      "330 2022-06-01         830376             342083     599287     395012   \n",
      "\n",
      "         Brent    Bromley     Camden    Croydon     Ealing  ... NORTH WEST  \\\n",
      "0    E09000005  E09000006  E09000007  E09000008  E09000009  ...  E12000002   \n",
      "1      71306.6    81671.5     120933    69158.2    79885.9  ...    43958.5   \n",
      "2      72022.3    81657.6     119509    68951.1    80897.1  ...    43925.4   \n",
      "3      72015.8    81449.3     120282    68712.4    81379.9  ...    44434.9   \n",
      "4      72965.6    81124.4     120098      68610    82188.9  ...    44267.8   \n",
      "..         ...        ...        ...        ...        ...  ...        ...   \n",
      "326     524082     477061     878950     408540     519679  ...     203081   \n",
      "327     526105     481135     886984     412595     522664  ...     204252   \n",
      "328     534127     491017     865107     415498     523284  ...     206527   \n",
      "329     533333     496659     842311     416438     527952  ...     208012   \n",
      "330     528087     508545     829857     416641     537695  ...     212347   \n",
      "\n",
      "    YORKS & THE HUMBER EAST MIDLANDS WEST MIDLANDS EAST OF ENGLAND     LONDON  \\\n",
      "0            E12000003     E12000004     E12000005       E12000006  E12000007   \n",
      "1              44803.4       45544.5       48527.5         56701.6    74435.8   \n",
      "2              44528.8       46051.6       49341.3         56593.6    72777.9   \n",
      "3              45200.5       45383.8       49442.2         56171.2    73896.8   \n",
      "4              45614.3       46124.2       49455.9         56567.9    74455.3   \n",
      "..                 ...           ...           ...             ...        ...   \n",
      "326             197549        234901        236224          342095     522374   \n",
      "327             197877        237848        239556          342830     521522   \n",
      "328             200354        239349        241355          344571     524562   \n",
      "329             204835        241877        245992          352723     528074   \n",
      "330             203973        245911        246114          354481     537920   \n",
      "\n",
      "    SOUTH EAST SOUTH WEST Unnamed: 47    England  \n",
      "0    E12000008  E12000009         NaN  E92000001  \n",
      "1      64018.9    54705.2         NaN    53202.8  \n",
      "2        63715    54356.1         NaN    53096.2  \n",
      "3      64113.6    53583.1         NaN    53201.3  \n",
      "4      64623.2      54786         NaN    53590.9  \n",
      "..         ...        ...         ...        ...  \n",
      "326     376710     311557         NaN     293754  \n",
      "327     382243     313417         NaN     295972  \n",
      "328     383558     319888         NaN     298440  \n",
      "329     387504     320812         NaN     302051  \n",
      "330     390513     322329         NaN     304867  \n",
      "\n",
      "[331 rows x 49 columns]\n"
     ]
    }
   ],
   "source": [
    "#What are the data types of properties data?\n",
    "print(properties.dtypes)\n",
    "#How many records do we have?\n",
    "print(len(properties))\n",
    "#What does our dataframe look like? \n",
    "print(properties)"
   ]
  },
  {
   "cell_type": "markdown",
   "metadata": {
    "colab_type": "text",
    "id": "tE9Sqt9-oAta"
   },
   "source": [
    "**2.2. Cleaning the data**\n",
    "\n",
    "You might find you need to transpose your dataframe, check out what its row indexes are, and reset the index. You  also might find you need to assign the values of the first row to your column headings  . (Hint: recall the .columns feature of DataFrames, as well as the iloc[] method).\n",
    "\n",
    "Don't be afraid to use StackOverflow for help  with this."
   ]
  },
  {
   "cell_type": "code",
   "execution_count": 53,
   "metadata": {
    "colab": {},
    "colab_type": "code",
    "id": "cdAu1A3YoH_r"
   },
   "outputs": [
    {
     "name": "stdout",
     "output_type": "stream",
     "text": [
      "Unnamed: 0               index        NaN 1995-01-01 00:00:00  \\\n",
      "0               City of London  E09000001               91449   \n",
      "1           Barking & Dagenham  E09000002             50460.2   \n",
      "2                       Barnet  E09000003             93284.5   \n",
      "3                       Bexley  E09000004             64958.1   \n",
      "4                        Brent  E09000005             71306.6   \n",
      "\n",
      "Unnamed: 0 1995-02-01 00:00:00 1995-03-01 00:00:00 1995-04-01 00:00:00  \\\n",
      "0                      82202.8             79120.7             77101.2   \n",
      "1                      51085.8               51269             53133.5   \n",
      "2                      93190.2             92247.5             90762.9   \n",
      "3                      64787.9             64367.5             64277.7   \n",
      "4                      72022.3             72015.8             72965.6   \n",
      "\n",
      "Unnamed: 0 1995-05-01 00:00:00 1995-06-01 00:00:00 1995-07-01 00:00:00  \\\n",
      "0                      84409.1             94900.5              110128   \n",
      "1                      53042.2             53700.3             52113.1   \n",
      "2                        90258             90107.2             91441.2   \n",
      "3                      63997.1             64252.3             63722.7   \n",
      "4                        73704             74310.5               74127   \n",
      "\n",
      "Unnamed: 0 1995-08-01 00:00:00  ... 2021-09-01 00:00:00 2021-10-01 00:00:00  \\\n",
      "0                       112329  ...              954884              793389   \n",
      "1                      52232.2  ...              315039              326713   \n",
      "2                      92361.3  ...              554752              568918   \n",
      "3                      64432.6  ...              371846              374878   \n",
      "4                        73547  ...              517734              512019   \n",
      "\n",
      "Unnamed: 0 2021-11-01 00:00:00 2021-12-01 00:00:00 2022-01-01 00:00:00  \\\n",
      "0                       799675              809376              796047   \n",
      "1                       328531              330851              337557   \n",
      "2                       572810              574877              581453   \n",
      "3                       377659              378365              380927   \n",
      "4                       519123              522416              519264   \n",
      "\n",
      "Unnamed: 0 2022-02-01 00:00:00 2022-03-01 00:00:00 2022-04-01 00:00:00  \\\n",
      "0                       856301              820302              860938   \n",
      "1                       341428              342723              339305   \n",
      "2                       578243              582655              594131   \n",
      "3                       384241              389417              391217   \n",
      "4                       524082              526105              534127   \n",
      "\n",
      "Unnamed: 0 2022-05-01 00:00:00 2022-06-01 00:00:00  \n",
      "0                       802500              830376  \n",
      "1                       337715              342083  \n",
      "2                       600963              599287  \n",
      "3                       393389              395012  \n",
      "4                       533333              528087  \n",
      "\n",
      "[5 rows x 332 columns]\n",
      "Index([            'index',                 NaT, 1995-01-01 00:00:00,\n",
      "       1995-02-01 00:00:00, 1995-03-01 00:00:00, 1995-04-01 00:00:00,\n",
      "       1995-05-01 00:00:00, 1995-06-01 00:00:00, 1995-07-01 00:00:00,\n",
      "       1995-08-01 00:00:00,\n",
      "       ...\n",
      "       2021-09-01 00:00:00, 2021-10-01 00:00:00, 2021-11-01 00:00:00,\n",
      "       2021-12-01 00:00:00, 2022-01-01 00:00:00, 2022-02-01 00:00:00,\n",
      "       2022-03-01 00:00:00, 2022-04-01 00:00:00, 2022-05-01 00:00:00,\n",
      "       2022-06-01 00:00:00],\n",
      "      dtype='object', name='Unnamed: 0', length=332)\n"
     ]
    }
   ],
   "source": [
    "#Transpose the properties data so that Boroughs are in a column\n",
    "properties_t = properties.transpose()\n",
    "#Set the first row as the columns headers.\n",
    "new_header = properties_t.iloc[0]\n",
    "properties_t2 = properties_t[1:]\n",
    "properties_t2.columns = new_header\n",
    "#Reset the index so that the Boroughs are the index\n",
    "properties_t2.reset_index(inplace = True)\n",
    "#Ensure that our data looks as expected\n",
    "print(properties_t2.head())\n",
    "print(properties_t2.columns)"
   ]
  },
  {
   "cell_type": "markdown",
   "metadata": {
    "colab_type": "text",
    "id": "o1uLbJAsoIjK"
   },
   "source": [
    "**2.3. Cleaning the data (part 2)**\n",
    "\n",
    "You might we have to **rename** a couple columns. How do you do this? The clue's pretty bold..."
   ]
  },
  {
   "cell_type": "code",
   "execution_count": 55,
   "metadata": {
    "colab": {},
    "colab_type": "code",
    "id": "GKkmn1AnoVZS"
   },
   "outputs": [
    {
     "name": "stdout",
     "output_type": "stream",
     "text": [
      "Index([          'Borough',                'ID', 1995-01-01 00:00:00,\n",
      "       1995-02-01 00:00:00, 1995-03-01 00:00:00, 1995-04-01 00:00:00,\n",
      "       1995-05-01 00:00:00, 1995-06-01 00:00:00, 1995-07-01 00:00:00,\n",
      "       1995-08-01 00:00:00,\n",
      "       ...\n",
      "       2021-09-01 00:00:00, 2021-10-01 00:00:00, 2021-11-01 00:00:00,\n",
      "       2021-12-01 00:00:00, 2022-01-01 00:00:00, 2022-02-01 00:00:00,\n",
      "       2022-03-01 00:00:00, 2022-04-01 00:00:00, 2022-05-01 00:00:00,\n",
      "       2022-06-01 00:00:00],\n",
      "      dtype='object', name='Unnamed: 0', length=332)\n"
     ]
    }
   ],
   "source": [
    "#Rename index as \"Borough\" and second column as \"ID\"\n",
    "properties_t2.rename(columns = {\"index\" : \"Borough\", properties_t2.columns[1]: \"ID\"}, inplace = True)\n",
    "print(properties_t2.columns)"
   ]
  },
  {
   "cell_type": "markdown",
   "metadata": {
    "colab_type": "text",
    "id": "jy8BzXHmoWEw"
   },
   "source": [
    "**2.4.Transforming the data**\n",
    "\n",
    "Remember what Wes McKinney said about tidy data? \n",
    "\n",
    "You might need to **melt** your DataFrame here. "
   ]
  },
  {
   "cell_type": "code",
   "execution_count": 56,
   "metadata": {
    "colab": {},
    "colab_type": "code",
    "id": "S2wM0qLuo2Zt"
   },
   "outputs": [
    {
     "name": "stdout",
     "output_type": "stream",
     "text": [
      "              Borough         ID       date avg_price\n",
      "0      City of London  E09000001 1995-01-01     91449\n",
      "1  Barking & Dagenham  E09000002 1995-01-01   50460.2\n",
      "2              Barnet  E09000003 1995-01-01   93284.5\n",
      "3              Bexley  E09000004 1995-01-01   64958.1\n",
      "4               Brent  E09000005 1995-01-01   71306.6\n"
     ]
    }
   ],
   "source": [
    "#Place various dates columns into a single column. \n",
    "properties_t_melt = properties_t2.melt(id_vars = ['Borough', 'ID'], var_name = \"date\", value_name = \"avg_price\")\n",
    "print(properties_t_melt.head())"
   ]
  },
  {
   "cell_type": "markdown",
   "metadata": {
    "colab_type": "text",
    "id": "7kIsgAo7o3mf"
   },
   "source": [
    "Remember to make sure your column data types are all correct. Average prices, for example, should be floating point numbers... "
   ]
  },
  {
   "cell_type": "code",
   "execution_count": 57,
   "metadata": {
    "colab": {},
    "colab_type": "code",
    "id": "ZcR4IHbcpOaq"
   },
   "outputs": [
    {
     "data": {
      "text/plain": [
       "Borough              object\n",
       "ID                   object\n",
       "date         datetime64[ns]\n",
       "avg_price           float64\n",
       "dtype: object"
      ]
     },
     "execution_count": 57,
     "metadata": {},
     "output_type": "execute_result"
    }
   ],
   "source": [
    "#Set average price as a float variable\n",
    "properties_t_melt['avg_price'] = properties_t_melt['avg_price'].astype(float)\n",
    "properties_t_melt.dtypes"
   ]
  },
  {
   "cell_type": "markdown",
   "metadata": {
    "colab_type": "text",
    "id": "knLUXHLypOtw"
   },
   "source": [
    "**2.5. Cleaning the data (part 3)**\n",
    "\n",
    "Do we have an equal number of observations in the ID, Average Price, Month, and London Borough columns? Remember that there are only 32 London Boroughs. How many entries do you have in that column? \n",
    "\n",
    "Check out the contents of the London Borough column, and if you find null values, get rid of them however you see fit. "
   ]
  },
  {
   "cell_type": "code",
   "execution_count": 83,
   "metadata": {
    "colab": {},
    "colab_type": "code",
    "id": "BnvTW5a3p0fC"
   },
   "outputs": [
    {
     "name": "stdout",
     "output_type": "stream",
     "text": [
      "48\n",
      "['City of London' 'Barking & Dagenham' 'Barnet' 'Bexley' 'Brent' 'Bromley'\n",
      " 'Camden' 'Croydon' 'Ealing' 'Enfield' 'Greenwich' 'Hackney'\n",
      " 'Hammersmith & Fulham' 'Haringey' 'Harrow' 'Havering' 'Hillingdon'\n",
      " 'Hounslow' 'Islington' 'Kensington & Chelsea' 'Kingston upon Thames'\n",
      " 'Lambeth' 'Lewisham' 'Merton' 'Newham' 'Redbridge' 'Richmond upon Thames'\n",
      " 'Southwark' 'Sutton' 'Tower Hamlets' 'Waltham Forest' 'Wandsworth'\n",
      " 'Westminster' 'Unnamed: 34' 'Inner London' 'Outer London' 'Unnamed: 37'\n",
      " 'NORTH EAST' 'NORTH WEST' 'YORKS & THE HUMBER' 'EAST MIDLANDS'\n",
      " 'WEST MIDLANDS' 'EAST OF ENGLAND' 'LONDON' 'SOUTH EAST' 'SOUTH WEST'\n",
      " 'Unnamed: 47' 'England']\n",
      "              Borough         ID       date    avg_price\n",
      "1  Barking & Dagenham  E09000002 1995-01-01  50460.22660\n",
      "2              Barnet  E09000003 1995-01-01  93284.51832\n",
      "3              Bexley  E09000004 1995-01-01  64958.09036\n",
      "4               Brent  E09000005 1995-01-01  71306.56698\n",
      "5             Bromley  E09000006 1995-01-01  81671.47692\n",
      "32\n"
     ]
    }
   ],
   "source": [
    "#What are the Borough variables? \n",
    "print(properties_t_melt['Borough'].nunique())\n",
    "#How many \"Borough\" variables do we have?\n",
    "print(properties_t_melt['Borough'].unique())\n",
    "#Remove all records that are not an actual \"Borough\"\n",
    "properties_t_melt2 = properties_t_melt[~properties_t_melt['Borough'].isin(['City of London', 'Unnamed: 34', 'Inner London', 'Outer London', 'Unnamed: 37', 'NORTH EAST', 'NORTH WEST', 'YORKS & THE HUMBER', 'EAST MIDLANDS', 'WEST MIDLANDS', 'EAST OF ENGLAND', 'LONDON', 'SOUTH EAST', 'SOUTH WEST', 'Unnamed: 47', 'England'])]\n",
    "print(properties_t_melt2.head())\n",
    "#How many \"Borough\" are there? There should be 32\n",
    "print(properties_t_melt2['Borough'].nunique())"
   ]
  },
  {
   "cell_type": "markdown",
   "metadata": {
    "colab_type": "text",
    "id": "PGEx6mJsp6dG"
   },
   "source": [
    "**2.6. Visualizing the data**\n",
    "\n",
    "To visualize the data, why not subset on a particular London Borough? Maybe do a line plot of Month against Average Price?"
   ]
  },
  {
   "cell_type": "code",
   "execution_count": 95,
   "metadata": {
    "colab": {},
    "colab_type": "code",
    "id": "nAg5pT9cqHAR"
   },
   "outputs": [
    {
     "data": {
      "image/png": "[encoded data removed]",
      "text/plain": [
       "<Figure size 432x288 with 1 Axes>"
      ]
     },
     "metadata": {
      "needs_background": "light"
     },
     "output_type": "display_data"
    }
   ],
   "source": [
    "#Create a plot of Month agains Average Price for \"Barking & Dagenham\" Borough\n",
    "properties_t_melt2[properties_t_melt2['Borough'] == 'Barking & Dagenham'].plot(x = 'date', y = 'avg_price', title = \"Average Cost of Housing in Londong Borough\")\n",
    "plt.show()"
   ]
  },
  {
   "cell_type": "markdown",
   "metadata": {
    "colab_type": "text",
    "id": "aWTPqSJeqHnC"
   },
   "source": [
    "To limit the number of data points you have, you might want to extract the year from every month value your *Month* column. \n",
    "\n",
    "To this end, you *could* apply a ***lambda function***. Your logic could work as follows:\n",
    "1. look through the `Month` column\n",
    "2. extract the year from each individual value in that column \n",
    "3. store that corresponding year as separate column. \n",
    "\n",
    "Whether you go ahead with this is up to you. Just so long as you answer our initial brief: which boroughs of London have seen the greatest house price increase, on average, over the past two decades? "
   ]
  },
  {
   "cell_type": "code",
   "execution_count": 143,
   "metadata": {
    "colab": {},
    "colab_type": "code",
    "id": "e0DF92cyqnu8"
   },
   "outputs": [
    {
     "name": "stdout",
     "output_type": "stream",
     "text": [
      "1    1995\n",
      "2    1995\n",
      "3    1995\n",
      "4    1995\n",
      "5    1995\n",
      "Name: year, dtype: int64\n"
     ]
    },
    {
     "name": "stderr",
     "output_type": "stream",
     "text": [
      "/Users/harrisonchaseweber/opt/anaconda3/lib/python3.7/site-packages/ipykernel_launcher.py:1: SettingWithCopyWarning: \n",
      "A value is trying to be set on a copy of a slice from a DataFrame.\n",
      "Try using .loc[row_indexer,col_indexer] = value instead\n",
      "\n",
      "See the caveats in the documentation: https://pandas.pydata.org/pandas-docs/stable/user_guide/indexing.html#returning-a-view-versus-a-copy\n",
      "  \"\"\"Entry point for launching an IPython kernel.\n"
     ]
    }
   ],
   "source": [
    "#Create a column \"year\" from the \"date\" column\n",
    "properties_t_melt2['year'] = properties_t_melt2['date'].dt.year"
   ]
  },
  {
   "cell_type": "markdown",
   "metadata": {
    "colab_type": "text",
    "id": "2knuTxAEqoJ4"
   },
   "source": [
    "**3. Modeling**\n",
    "\n",
    "Consider creating a function that will calculate a ratio of house prices, comparing the price of a house in 2018 to the price in 1998.\n",
    "\n",
    "Consider calling this function create_price_ratio.\n",
    "\n",
    "You'd want this function to:\n",
    "1. Take a filter of dfg, specifically where this filter constrains the London_Borough, as an argument. For example, one admissible argument should be: dfg[dfg['London_Borough']=='Camden'].\n",
    "2. Get the Average Price for that Borough, for the years 1998 and 2018.\n",
    "4. Calculate the ratio of the Average Price for 1998 divided by the Average Price for 2018.\n",
    "5. Return that ratio.\n",
    "\n",
    "Once you've written this function, you ultimately want to use it to iterate through all the unique London_Boroughs and work out the ratio capturing the difference of house prices between 1998 and 2018.\n",
    "\n",
    "Bear in mind: you don't have to write a function like this if you don't want to. If you can solve the brief otherwise, then great! \n",
    "\n",
    "***Hint***: This section should test the skills you acquired in:\n",
    "- Python Data Science Toolbox - Part One, all modules"
   ]
  },
  {
   "cell_type": "code",
   "execution_count": 185,
   "metadata": {
    "colab": {},
    "colab_type": "code",
    "id": "cKTyr437UgDa"
   },
   "outputs": [
    {
     "name": "stdout",
     "output_type": "stream",
     "text": [
      "year               Borough      diff\n",
      "29          Waltham Forest  4.018797\n",
      "10                 Hackney  3.871208\n",
      "21                Lewisham  3.610823\n",
      "0       Barking & Dagenham  3.569742\n",
      "23                  Newham  3.565094\n",
      "12                Haringey  3.482190\n",
      "22                  Merton  3.290466\n",
      "3                    Brent  3.266228\n",
      "31             Westminster  3.251468\n",
      "20                 Lambeth  3.239424\n",
      "9                Greenwich  3.221206\n",
      "24               Redbridge  3.207082\n",
      "14                Havering  3.150063\n",
      "18    Kensington & Chelsea  3.146211\n",
      "2                   Bexley  3.140983\n",
      "17               Islington  3.140329\n",
      "26               Southwark  3.129530\n",
      "8                  Enfield  3.124350\n",
      "5                   Camden  3.001031\n",
      "6                  Croydon  2.982034\n",
      "30              Wandsworth  2.980377\n",
      "7                   Ealing  2.974700\n",
      "15              Hillingdon  2.968220\n",
      "1                   Barnet  2.967875\n",
      "25    Richmond upon Thames  2.947362\n",
      "27                  Sutton  2.916217\n",
      "4                  Bromley  2.874032\n",
      "19    Kingston upon Thames  2.869584\n",
      "13                  Harrow  2.854196\n",
      "11    Hammersmith & Fulham  2.812308\n",
      "28           Tower Hamlets  2.798785\n",
      "16                Hounslow  2.764153\n"
     ]
    }
   ],
   "source": [
    "#What does our dataframe look like?\n",
    "#properties_t_melt2.head(100)\n",
    "\n",
    "#Group dataframe to a Borough and year level, take the average of each avg_price, create \"year\" columns\n",
    "properties_grpd = properties_t_melt2.groupby(['Borough', 'year'])['avg_price'].mean().unstack('year')\n",
    "properties_grpd = properties_grpd.reset_index()\n",
    "#print(properties_grpd)\n",
    "\n",
    "#Create most current full year \n",
    "prior_year = int(datetime.datetime.now().year - 1)\n",
    "#Create 20 years prior\n",
    "prior_20_years = int(prior_year-20)\n",
    "\n",
    "#Calculate the difference ratio between the prior year (to account for the most recent FULL year) and 20 years prior.\n",
    "properties_grpd['diff'] = properties_grpd[prior_year]/properties_grpd[prior_20_years]\n",
    "\n",
    "#Sort and print the Boroughs with the highest rate of change\n",
    "properties_grpd.sort_values(['diff'], ascending = False, inplace = True)\n",
    "print(properties_grpd[['Borough', 'diff']])"
   ]
  },
  {
   "cell_type": "markdown",
   "metadata": {
    "colab_type": "text",
    "id": "NzYUI7FxJpgv"
   },
   "source": [
    "### 4. Conclusion\n",
    "What can you conclude? Type out your conclusion below. \n",
    "\n",
    "Look back at your notebook. Think about how you might summarize what you have done, and prepare a quick presentation on it to your mentor at your next meeting. \n",
    "\n",
    "We hope you enjoyed this practical project. It should have consolidated your data hygiene and pandas skills by looking at a real-world problem involving just the kind of dataset you might encounter as a budding data scientist. Congratulations, and looking forward to seeing you at the next step in the course! "
   ]
  },
  {
   "cell_type": "code",
   "execution_count": null,
   "metadata": {},
   "outputs": [],
   "source": [
    "#From this, we can conclude that the average housing prices in the London area have increased the most in the following Boroughs:\n",
    "##Waltham Forest, Hackney, Lewisham, Barking & Dagenham, and Newham. \n"
   ]
  },
  {
   "cell_type": "code",
   "execution_count": 219,
   "metadata": {},
   "outputs": [
    {
     "data": {
      "image/png": "[encoded data removed]",
      "text/plain": [
       "<Figure size 432x288 with 1 Axes>"
      ]
     },
     "metadata": {
      "needs_background": "light"
     },
     "output_type": "display_data"
    },
    {
     "data": {
      "image/png": "[encoded data removed]",
      "text/plain": [
       "<Figure size 432x288 with 1 Axes>"
      ]
     },
     "metadata": {
      "needs_background": "light"
     },
     "output_type": "display_data"
    },
    {
     "data": {
      "image/png": "[encoded data removed]",
      "text/plain": [
       "<Figure size 432x288 with 1 Axes>"
      ]
     },
     "metadata": {
      "needs_background": "light"
     },
     "output_type": "display_data"
    }
   ],
   "source": [
    "#Additional Visualizations\n",
    "properties_t_melt2[properties_t_melt2['Borough'].isin(['Waltham Forest'])].plot(x = 'date', y = 'avg_price', label = 'Waltham Forest')\n",
    "properties_t_melt2[properties_t_melt2['Borough'].isin(['Hackney'])].plot(x = 'date', y = 'avg_price', label = 'Hackney')\n",
    "properties_t_melt2[properties_t_melt2['Borough'].isin(['Lewisham'])].plot(x = 'date', y = 'avg_price', label = 'Lewisham')\n",
    "plt.show()"
   ]
  },
  {
   "cell_type": "code",
   "execution_count": null,
   "metadata": {},
   "outputs": [],
   "source": []
  }
 ],
 "metadata": {
  "colab": {
   "collapsed_sections": [],
   "name": "Springboard Data Science Career Track Unit 4 Challenge - Tier 3 Complete .ipynb",
   "provenance": []
  },
  "kernelspec": {
   "display_name": "Python 3",
   "language": "python",
   "name": "python3"
  },
  "language_info": {
   "codemirror_mode": {
    "name": "ipython",
    "version": 3
   },
   "file_extension": ".py",
   "mimetype": "text/x-python",
   "name": "python",
   "nbconvert_exporter": "python",
   "pygments_lexer": "ipython3",
   "version": "3.7.6"
  }
 },
 "nbformat": 4,
 "nbformat_minor": 1
}
